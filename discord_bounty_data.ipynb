{
 "cells": [
  {
   "cell_type": "code",
   "execution_count": 1,
   "metadata": {},
   "outputs": [
    {
     "data": {
      "text/plain": [
       "True"
      ]
     },
     "execution_count": 1,
     "metadata": {},
     "output_type": "execute_result"
    }
   ],
   "source": [
    "import requests\n",
    "import json\n",
    "from datetime import datetime\n",
    "from pprint import pprint\n",
    "import pandas as pd\n",
    "from dotenv import load_dotenv, find_dotenv\n",
    "import os\n",
    "\n",
    "\n",
    "load_dotenv(find_dotenv())\n",
    "\n",
    "# https://discordapp.com/oauth2/authorize?scope=bot&permissions=109696&client_id={CLIENT_ID}"
   ]
  },
  {
   "cell_type": "code",
   "execution_count": 2,
   "metadata": {},
   "outputs": [],
   "source": [
    "auth_token = os.environ['USER_TOKEN'] # Find user token using this guide https://pastebin.com/PLdP21j1"
   ]
  },
  {
   "cell_type": "markdown",
   "metadata": {},
   "source": [
    "curl --header \"Authorization: USER_TOKEN\" https://discordapp.com/api/channels/425458098535137282/messages >> out.json\n",
    "\n",
    "\n",
    "<br />\n",
    "\n",
    "you will need to combine the messages 50 at a time until the returned message length is less than 50\n",
    "\n",
    "First message returned is newest \n",
    "\n",
    "You must also use a user token, bot tokens are not authorized to make the needed request"
   ]
  },
  {
   "cell_type": "code",
   "execution_count": 3,
   "metadata": {},
   "outputs": [],
   "source": [
    "BASE_API = \"https://discordapp.com/api\"\n",
    "\n",
    "headers = {\"Authorization\": auth_token}\n",
    "bounties_id = 425458098535137282\n",
    "moderation_id = 481838545531699210\n",
    "\n",
    "def message_endpoint(channel_id, before=''):\n",
    "    if before:\n",
    "        return f\"{BASE_API}/channels/{channel_id}/messages?before={before}\"\n",
    "    return f\"{BASE_API}/channels/{channel_id}/messages\"\n",
    "\n",
    "\n",
    "def get_all_messages(channel_id, headers=''):\n",
    "    \"\"\"\n",
    "    Grabs all the messages from a discord channel\n",
    "    \"\"\"\n",
    "    data = []\n",
    "    bounties_msg_endpoint = message_endpoint(channel_id)\n",
    "    req = requests.get(bounties_msg_endpoint, headers=headers)\n",
    "    pull = req.json()\n",
    "    data = data + pull\n",
    "    while len(pull) == 50:\n",
    "        try:\n",
    "            before = data[-1]['id']\n",
    "        except IndexError:\n",
    "            before = ''\n",
    "        bounties_msg_endpoint = message_endpoint(channel_id, before=before)\n",
    "        req = requests.get(bounties_msg_endpoint, headers=headers)\n",
    "        pull = req.json()\n",
    "        data = data + pull\n",
    "    return data\n"
   ]
  },
  {
   "cell_type": "code",
   "execution_count": 4,
   "metadata": {},
   "outputs": [],
   "source": [
    "bounties_messages = get_all_messages(bounties_id, headers=headers)"
   ]
  },
  {
   "cell_type": "code",
   "execution_count": 5,
   "metadata": {},
   "outputs": [],
   "source": [
    "with open(f'outfiles/bounties_messages_{datetime.now()}.json', 'w') as outfile:\n",
    "    json.dump(bounties_messages, outfile)"
   ]
  },
  {
   "cell_type": "code",
   "execution_count": 6,
   "metadata": {},
   "outputs": [
    {
     "data": {
      "text/plain": [
       "{'attachments': [],\n",
       " 'tts': False,\n",
       " 'embeds': [{'url': 'https://paper.swapblocks.io/.',\n",
       "   'type': 'link',\n",
       "   'description': 'Paper wallet generator for SBX cryptocurrency.',\n",
       "   'title': 'SBX Paper Wallet'}],\n",
       " 'timestamp': '2018-12-10T23:57:21.625000+00:00',\n",
       " 'mention_everyone': False,\n",
       " 'id': '521837862191235102',\n",
       " 'pinned': False,\n",
       " 'edited_timestamp': None,\n",
       " 'author': {'username': 'swapblocks_lance',\n",
       "  'discriminator': '1762',\n",
       "  'id': '385807070299160597',\n",
       "  'avatar': '3e0ede122ac47c7f8e7e0e315df4d833'},\n",
       " 'mention_roles': [],\n",
       " 'content': 'I still need SBX address from everyone mentioned in this message.  \\n\\nIf your name is below please DM me an sbx address.\\n\\nhttps://paper.swapblocks.io\\n\\n<@406112271794962433> still missing\\n<@415822454787932162> still missing\\n<@452463560413675522> still missing\\n<@498869778061066240> still missing\\n<@500292246046769152> still missing\\n<@508878619951628298> still missing\\n<@512954663557922818> still missing\\n<@516910535514521619> still missing',\n",
       " 'channel_id': '425458098535137282',\n",
       " 'mentions': [{'username': 'trieubye',\n",
       "   'discriminator': '4999',\n",
       "   'id': '498869778061066240',\n",
       "   'avatar': None},\n",
       "  {'username': 'Phongag',\n",
       "   'discriminator': '5805',\n",
       "   'id': '406112271794962433',\n",
       "   'avatar': None},\n",
       "  {'username': 'Saucego',\n",
       "   'discriminator': '2833',\n",
       "   'id': '415822454787932162',\n",
       "   'avatar': None},\n",
       "  {'username': 'Nexo12',\n",
       "   'discriminator': '0723',\n",
       "   'id': '500292246046769152',\n",
       "   'avatar': 'a37355709d385861fe223f00dfb4bcec'},\n",
       "  {'username': 'Esmailhosen',\n",
       "   'discriminator': '1396',\n",
       "   'id': '508878619951628298',\n",
       "   'avatar': None},\n",
       "  {'username': 'rezaul',\n",
       "   'discriminator': '6293',\n",
       "   'id': '512954663557922818',\n",
       "   'avatar': None},\n",
       "  {'username': 'Palash16',\n",
       "   'discriminator': '1241',\n",
       "   'id': '452463560413675522',\n",
       "   'avatar': '7e2199ac00c3122954ebec3b046d1405'},\n",
       "  {'username': 'sujonbsc',\n",
       "   'discriminator': '6959',\n",
       "   'id': '516910535514521619',\n",
       "   'avatar': None}],\n",
       " 'type': 0}"
      ]
     },
     "execution_count": 6,
     "metadata": {},
     "output_type": "execute_result"
    }
   ],
   "source": [
    "bounties_messages[0]"
   ]
  },
  {
   "cell_type": "code",
   "execution_count": 7,
   "metadata": {},
   "outputs": [],
   "source": [
    "moderation_messages = get_all_messages(moderation_id, headers=headers)"
   ]
  },
  {
   "cell_type": "code",
   "execution_count": 8,
   "metadata": {},
   "outputs": [],
   "source": [
    "with open(f'outfiles/moderation_messages_{datetime.now()}.json', 'w') as outfile:\n",
    "    json.dump(moderation_messages, outfile)"
   ]
  },
  {
   "cell_type": "code",
   "execution_count": 9,
   "metadata": {},
   "outputs": [],
   "source": [
    "# merge bounties and moderation messages into one\n",
    "bounties_messages = bounties_messages + moderation_messages"
   ]
  },
  {
   "cell_type": "markdown",
   "metadata": {},
   "source": [
    "## Clean Messages\n",
    "\n",
    "For bounty payouts, I only need the username, timestamp and sbx addresses\n",
    "\n",
    "\n",
    "1. First filter should only keep: author and content\n",
    "- Second filter should remove all records not containing an SBX address\n",
    "- Add userid and username to data\n",
    "- Remove author"
   ]
  },
  {
   "cell_type": "code",
   "execution_count": 10,
   "metadata": {},
   "outputs": [],
   "source": [
    "# First filter keeps author, content and timestamp\n",
    "first_b_clean = []\n",
    "for msg in bounties_messages:\n",
    "    first_b_clean.append({k: msg[k] for k in ('author', 'content')})"
   ]
  },
  {
   "cell_type": "code",
   "execution_count": 11,
   "metadata": {},
   "outputs": [
    {
     "name": "stdout",
     "output_type": "stream",
     "text": [
      "{'author': {'avatar': '3e0ede122ac47c7f8e7e0e315df4d833',\n",
      "            'discriminator': '1762',\n",
      "            'id': '385807070299160597',\n",
      "            'username': 'swapblocks_lance'},\n",
      " 'content': 'I still need SBX address from everyone mentioned in this '\n",
      "            'message.  \\n'\n",
      "            '\\n'\n",
      "            'If your name is below please DM me an sbx address.\\n'\n",
      "            '\\n'\n",
      "            'https://paper.swapblocks.io\\n'\n",
      "            '\\n'\n",
      "            '<@406112271794962433> still missing\\n'\n",
      "            '<@415822454787932162> still missing\\n'\n",
      "            '<@452463560413675522> still missing\\n'\n",
      "            '<@498869778061066240> still missing\\n'\n",
      "            '<@500292246046769152> still missing\\n'\n",
      "            '<@508878619951628298> still missing\\n'\n",
      "            '<@512954663557922818> still missing\\n'\n",
      "            '<@516910535514521619> still missing'}\n"
     ]
    }
   ],
   "source": [
    "pprint(first_b_clean[0])"
   ]
  },
  {
   "cell_type": "code",
   "execution_count": 12,
   "metadata": {},
   "outputs": [],
   "source": [
    "# Second filter removes all messages that are not SBX Addresses\n",
    "second_b_clean = []\n",
    "for msg in first_b_clean:\n",
    "    if (len(msg['content']) == 34) and (msg['content'][0] == 'X'):\n",
    "        msg['userid'] = msg['author']['id']\n",
    "        msg['username'] = f\"{msg['author']['username']}#{msg['author']['discriminator']}\"\n",
    "        second_b_clean.append(msg)"
   ]
  },
  {
   "cell_type": "code",
   "execution_count": 13,
   "metadata": {},
   "outputs": [
    {
     "name": "stdout",
     "output_type": "stream",
     "text": [
      "{'author': {'avatar': None,\n",
      "            'discriminator': '4993',\n",
      "            'id': '459303069935730689',\n",
      "            'username': 'JALALCCO'},\n",
      " 'content': 'XHUqLsQ5qEnhLhXFt8uYq4NU8mNBJRosHX',\n",
      " 'userid': '459303069935730689',\n",
      " 'username': 'JALALCCO#4993'}\n"
     ]
    }
   ],
   "source": [
    "pprint(second_b_clean[0])"
   ]
  },
  {
   "cell_type": "code",
   "execution_count": 14,
   "metadata": {},
   "outputs": [],
   "source": [
    "# First filter keeps author, content and timestamp\n",
    "third_b_clean = []\n",
    "for msg in second_b_clean:\n",
    "    third_b_clean.append({k: msg[k] for k in ('content', 'userid', 'username')})"
   ]
  },
  {
   "cell_type": "code",
   "execution_count": 15,
   "metadata": {},
   "outputs": [
    {
     "data": {
      "text/plain": [
       "{'content': 'XHUqLsQ5qEnhLhXFt8uYq4NU8mNBJRosHX',\n",
       " 'userid': '459303069935730689',\n",
       " 'username': 'JALALCCO#4993'}"
      ]
     },
     "execution_count": 15,
     "metadata": {},
     "output_type": "execute_result"
    }
   ],
   "source": [
    "third_b_clean[0]"
   ]
  },
  {
   "cell_type": "code",
   "execution_count": 16,
   "metadata": {},
   "outputs": [],
   "source": [
    "bounty_addrs = third_b_clean"
   ]
  },
  {
   "cell_type": "markdown",
   "metadata": {},
   "source": [
    "## Users and roles\n",
    "\n",
    "Next step is to collect all the users and their roles to determine who gets a bounty.  Filter out all users who do not have one of the below roles\n",
    "\n",
    "- @five_invits 1000\n",
    "- @ten_invites 5000\n",
    "- @fifty_invites 25000\n",
    "- @hundred_invites 50000\n",
    "- @thousand_invites 500000\n",
    "\n",
    "### Api Call\n",
    "\n",
    "curl --header \"Authorization: Mzg1ODA3MDcwMjk5MTYwNTk3.Dl4-mQ.pyzmAzJRlvhlGXrNXpdPfg-BbRk\" https://discordapp.com/api/guilds/425456443412447243/members?limit=1000"
   ]
  },
  {
   "cell_type": "code",
   "execution_count": 17,
   "metadata": {},
   "outputs": [],
   "source": [
    "SBX_GUILD_ID = 425456443412447243\n",
    "\n",
    "\n",
    "def members_endpoint(guild_id, after=''):\n",
    "    if after:\n",
    "        return f\"{BASE_API}/guilds/{guild_id}/members?limit=1000&after={after}\"\n",
    "    return f\"{BASE_API}/guilds/{guild_id}/members?limit=1000\"\n",
    "\n",
    "\n",
    "def get_all_members(guild_id, headers=''):\n",
    "    \"\"\"\n",
    "    Grabs all the messages from a discord channel\n",
    "    \"\"\"\n",
    "    try:\n",
    "        data = []\n",
    "        req = requests.get(members_endpoint(guild_id), headers=headers)\n",
    "        pull = req.json()\n",
    "        data = data + pull\n",
    "        while len(pull) == 1000:\n",
    "            try:\n",
    "                after = data[-1]['user']['id']\n",
    "            except IndexError:\n",
    "                after = ''\n",
    "            members_url = members_endpoint(guild_id, after=after)\n",
    "            req = requests.get(members_url, headers=headers)\n",
    "            pull = req.json()\n",
    "            data = data + pull\n",
    "    except TypeError:\n",
    "        print(pull)\n",
    "        print(members_url)\n",
    "    return data"
   ]
  },
  {
   "cell_type": "code",
   "execution_count": 18,
   "metadata": {},
   "outputs": [],
   "source": [
    "members = get_all_members(SBX_GUILD_ID, headers=headers)"
   ]
  },
  {
   "cell_type": "code",
   "execution_count": 19,
   "metadata": {},
   "outputs": [
    {
     "data": {
      "text/plain": [
       "{'nick': None,\n",
       " 'user': {'username': 'mili2010',\n",
       "  'discriminator': '7686',\n",
       "  'id': '521790709364424704',\n",
       "  'avatar': None},\n",
       " 'roles': [],\n",
       " 'mute': False,\n",
       " 'deaf': False,\n",
       " 'joined_at': '2018-12-10T20:50:11.228000+00:00'}"
      ]
     },
     "execution_count": 19,
     "metadata": {},
     "output_type": "execute_result"
    }
   ],
   "source": [
    "members[-1]"
   ]
  },
  {
   "cell_type": "code",
   "execution_count": 20,
   "metadata": {},
   "outputs": [],
   "source": [
    "with open(f'outfiles/sbx_members_{datetime.now()}.json', 'w') as outfile:\n",
    "    json.dump(bounties_messages, outfile)"
   ]
  },
  {
   "cell_type": "code",
   "execution_count": 21,
   "metadata": {},
   "outputs": [],
   "source": [
    "members_with_roles = []\n",
    "bots = []\n",
    "\n",
    "for member in members:\n",
    "    if len(member['roles']) > 0:\n",
    "        members_with_roles.append(member)\n",
    "    try:\n",
    "        if member['user']['bot']:\n",
    "            bots.append(member)\n",
    "    except KeyError:\n",
    "        continue"
   ]
  },
  {
   "cell_type": "markdown",
   "metadata": {},
   "source": [
    "## Get role ids"
   ]
  },
  {
   "cell_type": "code",
   "execution_count": 22,
   "metadata": {},
   "outputs": [
    {
     "name": "stdout",
     "output_type": "stream",
     "text": [
      "{'425456443412447243': '@everyone',\n",
      " '425463291335147528': '@SwapBlocksTeam',\n",
      " '425463946753867778': '@admin',\n",
      " '474299760409444352': '@forging_delegate',\n",
      " '481644253752328192': 'MEE6',\n",
      " '481901573019009025': 'InviteManager',\n",
      " '481931549668016170': '@fiveInvites',\n",
      " '481931920977166336': '@tenInvites',\n",
      " '481931994557710337': '@fiftyInvites',\n",
      " '481932067454713887': '@hundredInvites',\n",
      " '481933094924976139': '@1000Invites',\n",
      " '518572716618678274': 'DataBot',\n",
      " '518589428323581953': 'Altpocket',\n",
      " '521417905427185674': 'Delegate Info Bot'}\n"
     ]
    }
   ],
   "source": [
    "req = requests.get(\"https://discordapp.com/api/guilds/425456443412447243/roles\", headers=headers)\n",
    "roles = req.json()\n",
    "roles_dict = {}\n",
    "for r in roles:\n",
    "    roles_dict[r['id']] = r['name']\n",
    "pprint(roles_dict)"
   ]
  },
  {
   "cell_type": "code",
   "execution_count": 23,
   "metadata": {},
   "outputs": [],
   "source": [
    "FIVE_INVITES_ID = \"481931549668016170\"\n",
    "TEN_INVITES_ID = \"481931920977166336\"\n",
    "FIFTY_INVITES_ID = \"481931994557710337\"\n",
    "HUNDRED_INVITES_ID = \"481932067454713887\"\n",
    "THOUSAND_INVITES_ID = \"481933094924976139\"\n",
    "\n",
    "VALID_ROLES_LIST = [FIVE_INVITES_ID, TEN_INVITES_ID, FIFTY_INVITES_ID, \n",
    "              HUNDRED_INVITES_ID, THOUSAND_INVITES_ID]\n",
    "\n",
    "VALID_ROLES_DICT = {\n",
    "        \"481931549668016170\": \"FIVE_INVITES_ID\",\n",
    "        \"481931920977166336\": \"TEN_INVITES_ID\",\n",
    "        \"481931994557710337\": \"FIFTY_INVITES_ID\",\n",
    "        \"481932067454713887\": \"HUNDRED_INVITES_ID\",\n",
    "        \"481933094924976139\": \"THOUSAND_INVITES_ID\"\n",
    "    }"
   ]
  },
  {
   "cell_type": "markdown",
   "metadata": {},
   "source": [
    "## Limit list to invite bounty members"
   ]
  },
  {
   "cell_type": "code",
   "execution_count": 24,
   "metadata": {},
   "outputs": [],
   "source": [
    "invite_bnty_members = []\n",
    "other_members = []\n",
    "invalid_roles = []\n",
    "for member in members_with_roles:\n",
    "    if len(set(member['roles']).intersection(set(VALID_ROLES_LIST))) > 0:\n",
    "        invite_bnty_members.append(member)\n",
    "    else:\n",
    "        invalid_roles.append(member['roles'])\n",
    "        other_members.append(member)"
   ]
  },
  {
   "cell_type": "code",
   "execution_count": 25,
   "metadata": {},
   "outputs": [
    {
     "data": {
      "text/plain": [
       "304"
      ]
     },
     "execution_count": 25,
     "metadata": {},
     "output_type": "execute_result"
    }
   ],
   "source": [
    "# Check count to see if it sounds right\n",
    "len(invite_bnty_members)"
   ]
  },
  {
   "cell_type": "code",
   "execution_count": 26,
   "metadata": {},
   "outputs": [
    {
     "name": "stdout",
     "output_type": "stream",
     "text": [
      "@admin\n",
      "Delegate Info Bot\n",
      "@SwapBlocksTeam\n",
      "DataBot\n",
      "@forging_delegate\n",
      "InviteManager\n",
      "Altpocket\n",
      "MEE6\n"
     ]
    }
   ],
   "source": [
    "# Check roles left over to ensure all eligble members receive bounty payout\n",
    "x = []\n",
    "for y in invalid_roles:\n",
    "    for a in y:\n",
    "        x.append(a)\n",
    "for x in set(x):\n",
    "    print(roles_dict[x])"
   ]
  },
  {
   "cell_type": "code",
   "execution_count": 27,
   "metadata": {},
   "outputs": [
    {
     "name": "stdout",
     "output_type": "stream",
     "text": [
      "{'deaf': False,\n",
      " 'joined_at': '2018-11-21T07:15:56.248000+00:00',\n",
      " 'mute': False,\n",
      " 'nick': None,\n",
      " 'roles': ['481931549668016170', '481931920977166336'],\n",
      " 'user': {'avatar': 'c083108e0ca95be31a2ce18373fa1dae',\n",
      "          'discriminator': '2601',\n",
      "          'id': '124868289791918080',\n",
      "          'username': 'Nakkal'}}\n"
     ]
    }
   ],
   "source": [
    "pprint(invite_bnty_members[0])"
   ]
  },
  {
   "cell_type": "code",
   "execution_count": 28,
   "metadata": {},
   "outputs": [],
   "source": [
    "# Add userid and username column to invite_bnty_members\n",
    "\n",
    "for msg in invite_bnty_members:\n",
    "    msg['userid'] = msg['user']['id']\n",
    "    msg['username'] = f\"{msg['user']['username']}#{msg['user']['discriminator']}\""
   ]
  },
  {
   "cell_type": "code",
   "execution_count": 29,
   "metadata": {},
   "outputs": [
    {
     "data": {
      "text/plain": [
       "{'nick': None,\n",
       " 'user': {'username': 'Nakkal',\n",
       "  'discriminator': '2601',\n",
       "  'id': '124868289791918080',\n",
       "  'avatar': 'c083108e0ca95be31a2ce18373fa1dae'},\n",
       " 'roles': ['481931549668016170', '481931920977166336'],\n",
       " 'mute': False,\n",
       " 'deaf': False,\n",
       " 'joined_at': '2018-11-21T07:15:56.248000+00:00',\n",
       " 'userid': '124868289791918080',\n",
       " 'username': 'Nakkal#2601'}"
      ]
     },
     "execution_count": 29,
     "metadata": {},
     "output_type": "execute_result"
    }
   ],
   "source": [
    "invite_bnty_members[0]"
   ]
  },
  {
   "cell_type": "code",
   "execution_count": 30,
   "metadata": {},
   "outputs": [
    {
     "data": {
      "text/plain": [
       "{'content': 'XYdq5q3dkAm12yxnALUswT773DMy9bpnpJ',\n",
       " 'userid': '425923818201153537',\n",
       " 'username': 'sranbirlove#5744'}"
      ]
     },
     "execution_count": 30,
     "metadata": {},
     "output_type": "execute_result"
    }
   ],
   "source": [
    "bounty_addrs[-1]"
   ]
  },
  {
   "cell_type": "markdown",
   "metadata": {},
   "source": [
    "## Add address to invite_bnty_members"
   ]
  },
  {
   "cell_type": "code",
   "execution_count": 31,
   "metadata": {},
   "outputs": [],
   "source": [
    "# Add address to invite_bnty_members\n",
    "for member in invite_bnty_members:\n",
    "    user = member['userid']\n",
    "    for addr in bounty_addrs:\n",
    "        if addr['userid']  == user:\n",
    "            member['address'] = addr['content']"
   ]
  },
  {
   "cell_type": "code",
   "execution_count": 32,
   "metadata": {
    "scrolled": true
   },
   "outputs": [
    {
     "data": {
      "text/plain": [
       "{'nick': None,\n",
       " 'user': {'username': 'Nakkal',\n",
       "  'discriminator': '2601',\n",
       "  'id': '124868289791918080',\n",
       "  'avatar': 'c083108e0ca95be31a2ce18373fa1dae'},\n",
       " 'roles': ['481931549668016170', '481931920977166336'],\n",
       " 'mute': False,\n",
       " 'deaf': False,\n",
       " 'joined_at': '2018-11-21T07:15:56.248000+00:00',\n",
       " 'userid': '124868289791918080',\n",
       " 'username': 'Nakkal#2601',\n",
       " 'address': 'XFpiuYhksm5ZUiySL8oBuiAgbs2eZ4LUvV'}"
      ]
     },
     "execution_count": 32,
     "metadata": {},
     "output_type": "execute_result"
    }
   ],
   "source": [
    "invite_bnty_members[0]"
   ]
  },
  {
   "cell_type": "markdown",
   "metadata": {},
   "source": [
    "## Add role count\n",
    "\n",
    "<p>\n",
    "1 = 5 invites <br />\n",
    "2 = 10 invites <br />\n",
    "3 = 50 invites <br />\n",
    "4 = 100 invites <br />\n",
    "5 = 1000 invites <br />\n",
    "</p>"
   ]
  },
  {
   "cell_type": "code",
   "execution_count": 33,
   "metadata": {},
   "outputs": [],
   "source": [
    "for member in invite_bnty_members:\n",
    "    member['rolecount'] = len(set(member['roles']).intersection(set(VALID_ROLES_LIST)))"
   ]
  },
  {
   "cell_type": "code",
   "execution_count": 34,
   "metadata": {},
   "outputs": [
    {
     "data": {
      "text/plain": [
       "{'nick': None,\n",
       " 'user': {'username': 'Nakkal',\n",
       "  'discriminator': '2601',\n",
       "  'id': '124868289791918080',\n",
       "  'avatar': 'c083108e0ca95be31a2ce18373fa1dae'},\n",
       " 'roles': ['481931549668016170', '481931920977166336'],\n",
       " 'mute': False,\n",
       " 'deaf': False,\n",
       " 'joined_at': '2018-11-21T07:15:56.248000+00:00',\n",
       " 'userid': '124868289791918080',\n",
       " 'username': 'Nakkal#2601',\n",
       " 'address': 'XFpiuYhksm5ZUiySL8oBuiAgbs2eZ4LUvV',\n",
       " 'rolecount': 2}"
      ]
     },
     "execution_count": 34,
     "metadata": {},
     "output_type": "execute_result"
    }
   ],
   "source": [
    "invite_bnty_members[0]"
   ]
  },
  {
   "cell_type": "markdown",
   "metadata": {},
   "source": [
    "## Build csv transactions\n",
    "\n",
    "Format:\n",
    "\n",
    "<pre>\n",
    "XKyg87BUjmxNE2URgKmGZNFBeZn9wK5MH7,5000,barm79 10 invites bounty\n",
    "</pre>"
   ]
  },
  {
   "cell_type": "code",
   "execution_count": 35,
   "metadata": {},
   "outputs": [],
   "source": [
    "try:\n",
    "    os.remove(\"cleaned_payout_data/transactions.csv\")\n",
    "except OSError:\n",
    "    pass\n",
    "\n",
    "role_key = {\n",
    "    1: (\"5 invites\", 1000),\n",
    "    2: (\"10 invites\", 5000),\n",
    "    3: (\"50 invites\", 25000),\n",
    "    4: (\"100 invites\", 50000),\n",
    "    5: (\"1000 invites\", 500000)\n",
    "    }\n",
    "\n",
    "for member in invite_bnty_members:\n",
    "    try:\n",
    "        address = member['address']\n",
    "    except KeyError:\n",
    "        address = \"\"\n",
    "\n",
    "    rolec = member['rolecount']\n",
    "    row = f\"{address},{role_key[rolec][1]},{member['username']} {role_key[rolec][0]} invites bounty\\n\"\n",
    "    with open('cleaned_payout_data/transactions.csv','a+') as fd:\n",
    "        fd.write(row)"
   ]
  },
  {
   "cell_type": "code",
   "execution_count": 36,
   "metadata": {},
   "outputs": [],
   "source": [
    "payout_trns = pd.read_csv('cleaned_payout_data/transactions.csv', names=[\"Address\", \"Amount\", \"Message\"])"
   ]
  },
  {
   "cell_type": "code",
   "execution_count": 37,
   "metadata": {},
   "outputs": [
    {
     "data": {
      "text/html": [
       "<div>\n",
       "<style scoped>\n",
       "    .dataframe tbody tr th:only-of-type {\n",
       "        vertical-align: middle;\n",
       "    }\n",
       "\n",
       "    .dataframe tbody tr th {\n",
       "        vertical-align: top;\n",
       "    }\n",
       "\n",
       "    .dataframe thead th {\n",
       "        text-align: right;\n",
       "    }\n",
       "</style>\n",
       "<table border=\"1\" class=\"dataframe\">\n",
       "  <thead>\n",
       "    <tr style=\"text-align: right;\">\n",
       "      <th></th>\n",
       "      <th>Address</th>\n",
       "      <th>Amount</th>\n",
       "      <th>Message</th>\n",
       "    </tr>\n",
       "  </thead>\n",
       "  <tbody>\n",
       "    <tr>\n",
       "      <th>0</th>\n",
       "      <td>XFpiuYhksm5ZUiySL8oBuiAgbs2eZ4LUvV</td>\n",
       "      <td>5000</td>\n",
       "      <td>Nakkal#2601 10 invites invites bounty</td>\n",
       "    </tr>\n",
       "    <tr>\n",
       "      <th>1</th>\n",
       "      <td>XTcVkde4XqzkZui4c7AgMoes45wCTDTML2</td>\n",
       "      <td>1000</td>\n",
       "      <td>Deathshoot10#4468 5 invites invites bounty</td>\n",
       "    </tr>\n",
       "    <tr>\n",
       "      <th>2</th>\n",
       "      <td>XExppB4urDZkYHMprPCoNsLNuRxYVwRFfw</td>\n",
       "      <td>1000</td>\n",
       "      <td>IrenOK0803#7518 5 invites invites bounty</td>\n",
       "    </tr>\n",
       "    <tr>\n",
       "      <th>3</th>\n",
       "      <td>XLyq7gyydLUYts6d1qdyPFHSYUP5YLmX16</td>\n",
       "      <td>5000</td>\n",
       "      <td>yingchun#7343 10 invites invites bounty</td>\n",
       "    </tr>\n",
       "    <tr>\n",
       "      <th>4</th>\n",
       "      <td>NaN</td>\n",
       "      <td>1000</td>\n",
       "      <td>PNWDrew#3035 5 invites invites bounty</td>\n",
       "    </tr>\n",
       "  </tbody>\n",
       "</table>\n",
       "</div>"
      ],
      "text/plain": [
       "                              Address  Amount  \\\n",
       "0  XFpiuYhksm5ZUiySL8oBuiAgbs2eZ4LUvV    5000   \n",
       "1  XTcVkde4XqzkZui4c7AgMoes45wCTDTML2    1000   \n",
       "2  XExppB4urDZkYHMprPCoNsLNuRxYVwRFfw    1000   \n",
       "3  XLyq7gyydLUYts6d1qdyPFHSYUP5YLmX16    5000   \n",
       "4                                 NaN    1000   \n",
       "\n",
       "                                      Message  \n",
       "0       Nakkal#2601 10 invites invites bounty  \n",
       "1  Deathshoot10#4468 5 invites invites bounty  \n",
       "2    IrenOK0803#7518 5 invites invites bounty  \n",
       "3     yingchun#7343 10 invites invites bounty  \n",
       "4       PNWDrew#3035 5 invites invites bounty  "
      ]
     },
     "execution_count": 37,
     "metadata": {},
     "output_type": "execute_result"
    }
   ],
   "source": [
    "payout_trns.head()"
   ]
  },
  {
   "cell_type": "code",
   "execution_count": 38,
   "metadata": {},
   "outputs": [],
   "source": [
    "payout_trns.loc[17, 'Address'] = \"XExUNYHbjq5SpE22i96MKSrtxVch1MxpnF\" #bluedragon"
   ]
  },
  {
   "cell_type": "code",
   "execution_count": 39,
   "metadata": {},
   "outputs": [
    {
     "data": {
      "text/html": [
       "<div>\n",
       "<style scoped>\n",
       "    .dataframe tbody tr th:only-of-type {\n",
       "        vertical-align: middle;\n",
       "    }\n",
       "\n",
       "    .dataframe tbody tr th {\n",
       "        vertical-align: top;\n",
       "    }\n",
       "\n",
       "    .dataframe thead th {\n",
       "        text-align: right;\n",
       "    }\n",
       "</style>\n",
       "<table border=\"1\" class=\"dataframe\">\n",
       "  <thead>\n",
       "    <tr style=\"text-align: right;\">\n",
       "      <th></th>\n",
       "      <th>Address</th>\n",
       "      <th>Amount</th>\n",
       "      <th>Message</th>\n",
       "    </tr>\n",
       "  </thead>\n",
       "  <tbody>\n",
       "    <tr>\n",
       "      <th>4</th>\n",
       "      <td>NaN</td>\n",
       "      <td>1000</td>\n",
       "      <td>PNWDrew#3035 5 invites invites bounty</td>\n",
       "    </tr>\n",
       "    <tr>\n",
       "      <th>8</th>\n",
       "      <td>NaN</td>\n",
       "      <td>50000</td>\n",
       "      <td>Thuyên Trần#8248 100 invites invites bounty</td>\n",
       "    </tr>\n",
       "    <tr>\n",
       "      <th>20</th>\n",
       "      <td>NaN</td>\n",
       "      <td>1000</td>\n",
       "      <td>swapblocks_lance#1762 5 invites invites bounty</td>\n",
       "    </tr>\n",
       "    <tr>\n",
       "      <th>34</th>\n",
       "      <td>NaN</td>\n",
       "      <td>25000</td>\n",
       "      <td>Airdrop Alert Daily YouTube#4047 50 invites in...</td>\n",
       "    </tr>\n",
       "    <tr>\n",
       "      <th>50</th>\n",
       "      <td>NaN</td>\n",
       "      <td>1000</td>\n",
       "      <td>Phongag#5805 5 invites invites bounty</td>\n",
       "    </tr>\n",
       "  </tbody>\n",
       "</table>\n",
       "</div>"
      ],
      "text/plain": [
       "   Address  Amount                                            Message\n",
       "4      NaN    1000              PNWDrew#3035 5 invites invites bounty\n",
       "8      NaN   50000        Thuyên Trần#8248 100 invites invites bounty\n",
       "20     NaN    1000     swapblocks_lance#1762 5 invites invites bounty\n",
       "34     NaN   25000  Airdrop Alert Daily YouTube#4047 50 invites in...\n",
       "50     NaN    1000              Phongag#5805 5 invites invites bounty"
      ]
     },
     "execution_count": 39,
     "metadata": {},
     "output_type": "execute_result"
    }
   ],
   "source": [
    "no_address = payout_trns[payout_trns['Address'].isnull()].copy()\n",
    "no_address.head()"
   ]
  },
  {
   "cell_type": "code",
   "execution_count": 40,
   "metadata": {},
   "outputs": [],
   "source": [
    "\"\"\"\n",
    "bluedragon 5 invites bounty\n",
    "si Nakkal 5 invites bounty\n",
    "kucingone 5 invites bounty\n",
    "barm79 5 invites bounty\n",
    "PNWDrew 5 invites bounty\n",
    "Tuning 5 invites bounty\n",
    "si Nakkal 10 invites bounty\n",
    "barm79 10 invites bounty\n",
    "\"\"\"\n",
    "remove_users = ['swapblocks_lance#1762 5 invites invites bounty', 'PNWDrew#3035 5 invites invites bounty']\n",
    "\n",
    "# index 4,19"
   ]
  },
  {
   "cell_type": "code",
   "execution_count": 41,
   "metadata": {},
   "outputs": [],
   "source": [
    "no_address.to_csv('cleaned_payout_data/noaddress.csv', index=False)"
   ]
  },
  {
   "cell_type": "code",
   "execution_count": 42,
   "metadata": {},
   "outputs": [],
   "source": [
    "payout_trns = payout_trns[payout_trns['Address'].notnull()].sort_values('Amount', ascending=False).reset_index(drop=True)"
   ]
  },
  {
   "cell_type": "code",
   "execution_count": 43,
   "metadata": {},
   "outputs": [],
   "source": [
    "payout_trns.to_csv('cleaned_payout_data/transactions_full.csv', index=False)"
   ]
  },
  {
   "cell_type": "markdown",
   "metadata": {},
   "source": [
    "## After some manually cleaning I am going to import the dataset for one last verification"
   ]
  },
  {
   "cell_type": "code",
   "execution_count": 44,
   "metadata": {},
   "outputs": [],
   "source": [
    "df = pd.read_csv('cleaned_payout_data/transactions_trimmed.csv')"
   ]
  },
  {
   "cell_type": "code",
   "execution_count": 45,
   "metadata": {},
   "outputs": [
    {
     "data": {
      "text/plain": [
       "1458000"
      ]
     },
     "execution_count": 45,
     "metadata": {},
     "output_type": "execute_result"
    }
   ],
   "source": [
    "df['Amount'].sum()"
   ]
  }
 ],
 "metadata": {
  "kernelspec": {
   "display_name": "Python 3",
   "language": "python",
   "name": "python3"
  },
  "language_info": {
   "codemirror_mode": {
    "name": "ipython",
    "version": 3
   },
   "file_extension": ".py",
   "mimetype": "text/x-python",
   "name": "python",
   "nbconvert_exporter": "python",
   "pygments_lexer": "ipython3",
   "version": "3.6.7"
  }
 },
 "nbformat": 4,
 "nbformat_minor": 2
}
